{
 "cells": [
  {
   "cell_type": "markdown",
   "metadata": {},
   "source": [
    "<p style=\"text-align:center\">\n",
    "    <a href=\"https://skills.network\" target=\"_blank\">\n",
    "    <img src=\"https://cf-courses-data.s3.us.cloud-object-storage.appdomain.cloud/assets/logos/SN_web_lightmode.png\" width=\"200\" alt=\"Skills Network Logo\"  />\n",
    "    </a>\n",
    "</p>\n"
   ]
  },
  {
   "cell_type": "markdown",
   "metadata": {},
   "source": [
    "# **Finding Duplicates Lab**\n"
   ]
  },
  {
   "cell_type": "markdown",
   "metadata": {},
   "source": [
    "Estimated time needed: **30** minutes\n"
   ]
  },
  {
   "cell_type": "markdown",
   "metadata": {},
   "source": [
    "## Introduction\n"
   ]
  },
  {
   "cell_type": "markdown",
   "metadata": {},
   "source": [
    "Data wrangling is a critical step in preparing datasets for analysis, and handling duplicates plays a key role in ensuring data accuracy. In this lab, you will focus on identifying and removing duplicate entries from your dataset. \n"
   ]
  },
  {
   "cell_type": "markdown",
   "metadata": {},
   "source": [
    "## Objectives\n"
   ]
  },
  {
   "cell_type": "markdown",
   "metadata": {},
   "source": [
    "In this lab, you will perform the following:\n"
   ]
  },
  {
   "cell_type": "markdown",
   "metadata": {},
   "source": [
    "1. Identify duplicate rows in the dataset and analyze their characteristics.\n",
    "2. Visualize the distribution of duplicates based on key attributes.\n",
    "3. Remove duplicate values strategically based on specific criteria.\n",
    "4. Outline the process of verifying and documenting duplicate removal.\n"
   ]
  },
  {
   "cell_type": "markdown",
   "metadata": {},
   "source": [
    "## Hands on Lab\n"
   ]
  },
  {
   "cell_type": "markdown",
   "metadata": {},
   "source": [
    "Install the needed library\n"
   ]
  },
  {
   "cell_type": "code",
   "execution_count": 1,
   "metadata": {},
   "outputs": [
    {
     "name": "stdout",
     "output_type": "stream",
     "text": [
      "Collecting pandas\n",
      "  Downloading pandas-2.3.1-cp312-cp312-manylinux_2_17_x86_64.manylinux2014_x86_64.whl.metadata (91 kB)\n",
      "Collecting numpy>=1.26.0 (from pandas)\n",
      "  Downloading numpy-2.3.1-cp312-cp312-manylinux_2_28_x86_64.whl.metadata (62 kB)\n",
      "Requirement already satisfied: python-dateutil>=2.8.2 in /opt/conda/lib/python3.12/site-packages (from pandas) (2.9.0.post0)\n",
      "Requirement already satisfied: pytz>=2020.1 in /opt/conda/lib/python3.12/site-packages (from pandas) (2024.2)\n",
      "Collecting tzdata>=2022.7 (from pandas)\n",
      "  Downloading tzdata-2025.2-py2.py3-none-any.whl.metadata (1.4 kB)\n",
      "Requirement already satisfied: six>=1.5 in /opt/conda/lib/python3.12/site-packages (from python-dateutil>=2.8.2->pandas) (1.17.0)\n",
      "Downloading pandas-2.3.1-cp312-cp312-manylinux_2_17_x86_64.manylinux2014_x86_64.whl (12.0 MB)\n",
      "\u001b[2K   \u001b[90m━━━━━━━━━━━━━━━━━━━━━━━━━━━━━━━━━━━━━━━━\u001b[0m \u001b[32m12.0/12.0 MB\u001b[0m \u001b[31m161.1 MB/s\u001b[0m eta \u001b[36m0:00:00\u001b[0m\n",
      "\u001b[?25hDownloading numpy-2.3.1-cp312-cp312-manylinux_2_28_x86_64.whl (16.6 MB)\n",
      "\u001b[2K   \u001b[90m━━━━━━━━━━━━━━━━━━━━━━━━━━━━━━━━━━━━━━━━\u001b[0m \u001b[32m16.6/16.6 MB\u001b[0m \u001b[31m167.6 MB/s\u001b[0m eta \u001b[36m0:00:00\u001b[0m\n",
      "\u001b[?25hDownloading tzdata-2025.2-py2.py3-none-any.whl (347 kB)\n",
      "Installing collected packages: tzdata, numpy, pandas\n",
      "Successfully installed numpy-2.3.1 pandas-2.3.1 tzdata-2025.2\n",
      "Collecting matplotlib\n",
      "  Downloading matplotlib-3.10.3-cp312-cp312-manylinux_2_17_x86_64.manylinux2014_x86_64.whl.metadata (11 kB)\n",
      "Collecting contourpy>=1.0.1 (from matplotlib)\n",
      "  Downloading contourpy-1.3.2-cp312-cp312-manylinux_2_17_x86_64.manylinux2014_x86_64.whl.metadata (5.5 kB)\n",
      "Collecting cycler>=0.10 (from matplotlib)\n",
      "  Downloading cycler-0.12.1-py3-none-any.whl.metadata (3.8 kB)\n",
      "Collecting fonttools>=4.22.0 (from matplotlib)\n",
      "  Downloading fonttools-4.59.0-cp312-cp312-manylinux1_x86_64.manylinux2014_x86_64.manylinux_2_17_x86_64.manylinux_2_5_x86_64.whl.metadata (107 kB)\n",
      "Collecting kiwisolver>=1.3.1 (from matplotlib)\n",
      "  Downloading kiwisolver-1.4.8-cp312-cp312-manylinux_2_17_x86_64.manylinux2014_x86_64.whl.metadata (6.2 kB)\n",
      "Requirement already satisfied: numpy>=1.23 in /opt/conda/lib/python3.12/site-packages (from matplotlib) (2.3.1)\n",
      "Requirement already satisfied: packaging>=20.0 in /opt/conda/lib/python3.12/site-packages (from matplotlib) (24.2)\n",
      "Collecting pillow>=8 (from matplotlib)\n",
      "  Downloading pillow-11.3.0-cp312-cp312-manylinux_2_27_x86_64.manylinux_2_28_x86_64.whl.metadata (9.0 kB)\n",
      "Collecting pyparsing>=2.3.1 (from matplotlib)\n",
      "  Downloading pyparsing-3.2.3-py3-none-any.whl.metadata (5.0 kB)\n",
      "Requirement already satisfied: python-dateutil>=2.7 in /opt/conda/lib/python3.12/site-packages (from matplotlib) (2.9.0.post0)\n",
      "Requirement already satisfied: six>=1.5 in /opt/conda/lib/python3.12/site-packages (from python-dateutil>=2.7->matplotlib) (1.17.0)\n",
      "Downloading matplotlib-3.10.3-cp312-cp312-manylinux_2_17_x86_64.manylinux2014_x86_64.whl (8.6 MB)\n",
      "\u001b[2K   \u001b[90m━━━━━━━━━━━━━━━━━━━━━━━━━━━━━━━━━━━━━━━━\u001b[0m \u001b[32m8.6/8.6 MB\u001b[0m \u001b[31m93.2 MB/s\u001b[0m eta \u001b[36m0:00:00\u001b[0m\n",
      "\u001b[?25hDownloading contourpy-1.3.2-cp312-cp312-manylinux_2_17_x86_64.manylinux2014_x86_64.whl (323 kB)\n",
      "Downloading cycler-0.12.1-py3-none-any.whl (8.3 kB)\n",
      "Downloading fonttools-4.59.0-cp312-cp312-manylinux1_x86_64.manylinux2014_x86_64.manylinux_2_17_x86_64.manylinux_2_5_x86_64.whl (4.9 MB)\n",
      "\u001b[2K   \u001b[90m━━━━━━━━━━━━━━━━━━━━━━━━━━━━━━━━━━━━━━━━\u001b[0m \u001b[32m4.9/4.9 MB\u001b[0m \u001b[31m106.9 MB/s\u001b[0m eta \u001b[36m0:00:00\u001b[0m\n",
      "\u001b[?25hDownloading kiwisolver-1.4.8-cp312-cp312-manylinux_2_17_x86_64.manylinux2014_x86_64.whl (1.5 MB)\n",
      "\u001b[2K   \u001b[90m━━━━━━━━━━━━━━━━━━━━━━━━━━━━━━━━━━━━━━━━\u001b[0m \u001b[32m1.5/1.5 MB\u001b[0m \u001b[31m69.9 MB/s\u001b[0m eta \u001b[36m0:00:00\u001b[0m\n",
      "\u001b[?25hDownloading pillow-11.3.0-cp312-cp312-manylinux_2_27_x86_64.manylinux_2_28_x86_64.whl (6.6 MB)\n",
      "\u001b[2K   \u001b[90m━━━━━━━━━━━━━━━━━━━━━━━━━━━━━━━━━━━━━━━━\u001b[0m \u001b[32m6.6/6.6 MB\u001b[0m \u001b[31m123.8 MB/s\u001b[0m eta \u001b[36m0:00:00\u001b[0m\n",
      "\u001b[?25hDownloading pyparsing-3.2.3-py3-none-any.whl (111 kB)\n",
      "Installing collected packages: pyparsing, pillow, kiwisolver, fonttools, cycler, contourpy, matplotlib\n",
      "Successfully installed contourpy-1.3.2 cycler-0.12.1 fonttools-4.59.0 kiwisolver-1.4.8 matplotlib-3.10.3 pillow-11.3.0 pyparsing-3.2.3\n"
     ]
    }
   ],
   "source": [
    "!pip install pandas\n",
    "!pip install matplotlib"
   ]
  },
  {
   "cell_type": "markdown",
   "metadata": {},
   "source": [
    "Import pandas module\n"
   ]
  },
  {
   "cell_type": "code",
   "execution_count": 4,
   "metadata": {},
   "outputs": [],
   "source": [
    "import pandas as pd\n"
   ]
  },
  {
   "cell_type": "markdown",
   "metadata": {},
   "source": [
    "Import matplotlib\n"
   ]
  },
  {
   "cell_type": "code",
   "execution_count": 5,
   "metadata": {},
   "outputs": [],
   "source": [
    "import matplotlib.pyplot as plt\n"
   ]
  },
  {
   "cell_type": "markdown",
   "metadata": {},
   "source": [
    "## **Load the dataset into a dataframe**\n"
   ]
  },
  {
   "cell_type": "markdown",
   "metadata": {},
   "source": [
    "<h2>Read Data</h2>\n",
    "<p>\n",
    "We utilize the <code>pandas.read_csv()</code> function for reading CSV files. However, in this version of the lab, which operates on JupyterLite, the dataset needs to be downloaded to the interface using the provided code below.\n",
    "</p>\n"
   ]
  },
  {
   "cell_type": "code",
   "execution_count": 6,
   "metadata": {},
   "outputs": [
    {
     "name": "stdout",
     "output_type": "stream",
     "text": [
      "   ResponseId                      MainBranch                 Age  \\\n",
      "0           1  I am a developer by profession  Under 18 years old   \n",
      "1           2  I am a developer by profession     35-44 years old   \n",
      "2           3  I am a developer by profession     45-54 years old   \n",
      "3           4           I am learning to code     18-24 years old   \n",
      "4           5  I am a developer by profession     18-24 years old   \n",
      "\n",
      "            Employment RemoteWork   Check  \\\n",
      "0  Employed, full-time     Remote  Apples   \n",
      "1  Employed, full-time     Remote  Apples   \n",
      "2  Employed, full-time     Remote  Apples   \n",
      "3   Student, full-time        NaN  Apples   \n",
      "4   Student, full-time        NaN  Apples   \n",
      "\n",
      "                                    CodingActivities  \\\n",
      "0                                              Hobby   \n",
      "1  Hobby;Contribute to open-source projects;Other...   \n",
      "2  Hobby;Contribute to open-source projects;Other...   \n",
      "3                                                NaN   \n",
      "4                                                NaN   \n",
      "\n",
      "                                             EdLevel  \\\n",
      "0                          Primary/elementary school   \n",
      "1       Bachelor’s degree (B.A., B.S., B.Eng., etc.)   \n",
      "2    Master’s degree (M.A., M.S., M.Eng., MBA, etc.)   \n",
      "3  Some college/university study without earning ...   \n",
      "4  Secondary school (e.g. American high school, G...   \n",
      "\n",
      "                                           LearnCode  \\\n",
      "0                             Books / Physical media   \n",
      "1  Books / Physical media;Colleague;On the job tr...   \n",
      "2  Books / Physical media;Colleague;On the job tr...   \n",
      "3  Other online resources (e.g., videos, blogs, f...   \n",
      "4  Other online resources (e.g., videos, blogs, f...   \n",
      "\n",
      "                                     LearnCodeOnline  ... JobSatPoints_6  \\\n",
      "0                                                NaN  ...            NaN   \n",
      "1  Technical documentation;Blogs;Books;Written Tu...  ...            0.0   \n",
      "2  Technical documentation;Blogs;Books;Written Tu...  ...            NaN   \n",
      "3  Stack Overflow;How-to videos;Interactive tutorial  ...            NaN   \n",
      "4  Technical documentation;Blogs;Written Tutorial...  ...            NaN   \n",
      "\n",
      "  JobSatPoints_7 JobSatPoints_8 JobSatPoints_9 JobSatPoints_10  \\\n",
      "0            NaN            NaN            NaN             NaN   \n",
      "1            0.0            0.0            0.0             0.0   \n",
      "2            NaN            NaN            NaN             NaN   \n",
      "3            NaN            NaN            NaN             NaN   \n",
      "4            NaN            NaN            NaN             NaN   \n",
      "\n",
      "  JobSatPoints_11           SurveyLength SurveyEase ConvertedCompYearly JobSat  \n",
      "0             NaN                    NaN        NaN                 NaN    NaN  \n",
      "1             0.0                    NaN        NaN                 NaN    NaN  \n",
      "2             NaN  Appropriate in length       Easy                 NaN    NaN  \n",
      "3             NaN               Too long       Easy                 NaN    NaN  \n",
      "4             NaN              Too short       Easy                 NaN    NaN  \n",
      "\n",
      "[5 rows x 114 columns]\n"
     ]
    }
   ],
   "source": [
    "# Load the dataset directly from the URL\n",
    "file_path = \"https://cf-courses-data.s3.us.cloud-object-storage.appdomain.cloud/VYPrOu0Vs3I0hKLLjiPGrA/survey-data-with-duplicate.csv\"\n",
    "df = pd.read_csv(file_path)\n",
    "\n",
    "# Display the first few rows\n",
    "print(df.head())"
   ]
  },
  {
   "cell_type": "markdown",
   "metadata": {},
   "source": [
    "Load the data into a pandas dataframe:\n",
    "\n"
   ]
  },
  {
   "cell_type": "markdown",
   "metadata": {},
   "source": [
    "Note: If you are working on a local Jupyter environment, you can use the URL directly in the pandas.read_csv() function as shown below:\n",
    "\n"
   ]
  },
  {
   "cell_type": "code",
   "execution_count": null,
   "metadata": {},
   "outputs": [],
   "source": [
    "# df = pd.read_csv(\"https://cf-courses-data.s3.us.cloud-object-storage.appdomain.cloud/n01PQ9pSmiRX6520flujwQ/survey-data.csv\")\n"
   ]
  },
  {
   "cell_type": "markdown",
   "metadata": {},
   "source": [
    "## Identify and Analyze Duplicates\n"
   ]
  },
  {
   "cell_type": "markdown",
   "metadata": {},
   "source": [
    "### Task 1: Identify Duplicate Rows\n",
    "1. Count the number of duplicate rows in the dataset.\n",
    "3. Display the first few duplicate rows to understand their structure.\n"
   ]
  },
  {
   "cell_type": "code",
   "execution_count": 13,
   "metadata": {},
   "outputs": [
    {
     "name": "stdout",
     "output_type": "stream",
     "text": [
      "Number of duplicate rows: 20\n",
      "       ResponseId                      MainBranch                 Age  \\\n",
      "65437           1  I am a developer by profession  Under 18 years old   \n",
      "65438           2  I am a developer by profession     35-44 years old   \n",
      "65439           3  I am a developer by profession     45-54 years old   \n",
      "65440           4           I am learning to code     18-24 years old   \n",
      "65441           5  I am a developer by profession     18-24 years old   \n",
      "\n",
      "                Employment RemoteWork   Check  \\\n",
      "65437  Employed, full-time     Remote  Apples   \n",
      "65438  Employed, full-time     Remote  Apples   \n",
      "65439  Employed, full-time     Remote  Apples   \n",
      "65440   Student, full-time        NaN  Apples   \n",
      "65441   Student, full-time        NaN  Apples   \n",
      "\n",
      "                                        CodingActivities  \\\n",
      "65437                                              Hobby   \n",
      "65438  Hobby;Contribute to open-source projects;Other...   \n",
      "65439  Hobby;Contribute to open-source projects;Other...   \n",
      "65440                                                NaN   \n",
      "65441                                                NaN   \n",
      "\n",
      "                                                 EdLevel  \\\n",
      "65437                          Primary/elementary school   \n",
      "65438       Bachelor’s degree (B.A., B.S., B.Eng., etc.)   \n",
      "65439    Master’s degree (M.A., M.S., M.Eng., MBA, etc.)   \n",
      "65440  Some college/university study without earning ...   \n",
      "65441  Secondary school (e.g. American high school, G...   \n",
      "\n",
      "                                               LearnCode  \\\n",
      "65437                             Books / Physical media   \n",
      "65438  Books / Physical media;Colleague;On the job tr...   \n",
      "65439  Books / Physical media;Colleague;On the job tr...   \n",
      "65440  Other online resources (e.g., videos, blogs, f...   \n",
      "65441  Other online resources (e.g., videos, blogs, f...   \n",
      "\n",
      "                                         LearnCodeOnline  ... JobSatPoints_6  \\\n",
      "65437                                                NaN  ...            NaN   \n",
      "65438  Technical documentation;Blogs;Books;Written Tu...  ...            0.0   \n",
      "65439  Technical documentation;Blogs;Books;Written Tu...  ...            NaN   \n",
      "65440  Stack Overflow;How-to videos;Interactive tutorial  ...            NaN   \n",
      "65441  Technical documentation;Blogs;Written Tutorial...  ...            NaN   \n",
      "\n",
      "      JobSatPoints_7 JobSatPoints_8 JobSatPoints_9 JobSatPoints_10  \\\n",
      "65437            NaN            NaN            NaN             NaN   \n",
      "65438            0.0            0.0            0.0             0.0   \n",
      "65439            NaN            NaN            NaN             NaN   \n",
      "65440            NaN            NaN            NaN             NaN   \n",
      "65441            NaN            NaN            NaN             NaN   \n",
      "\n",
      "      JobSatPoints_11           SurveyLength SurveyEase ConvertedCompYearly  \\\n",
      "65437             NaN                    NaN        NaN                 NaN   \n",
      "65438             0.0                    NaN        NaN                 NaN   \n",
      "65439             NaN  Appropriate in length       Easy                 NaN   \n",
      "65440             NaN               Too long       Easy                 NaN   \n",
      "65441             NaN              Too short       Easy                 NaN   \n",
      "\n",
      "      JobSat  \n",
      "65437    NaN  \n",
      "65438    NaN  \n",
      "65439    NaN  \n",
      "65440    NaN  \n",
      "65441    NaN  \n",
      "\n",
      "[5 rows x 114 columns]\n"
     ]
    }
   ],
   "source": [
    "## Write your code here\n",
    "duplicate_rows = df[df.duplicated()]\n",
    "\n",
    "duplicate_count = duplicate_rows.shape[0]\n",
    "print(f\"Number of duplicate rows: {duplicate_count}\")\n",
    "print(duplicate_rows.head())"
   ]
  },
  {
   "cell_type": "markdown",
   "metadata": {},
   "source": [
    "### Task 2: Analyze Characteristics of Duplicates\n",
    "1. Identify duplicate rows based on selected columns such as MainBranch, Employment, and RemoteWork. Analyse which columns frequently contain identical values within these duplicate rows.\n",
    "2. Analyse the characteristics of rows that are duplicates based on a subset of columns, such as MainBranch, Employment, and RemoteWork. Determine which columns frequently have identical values across these rows.\n",
    "   \n"
   ]
  },
  {
   "cell_type": "code",
   "execution_count": 22,
   "metadata": {},
   "outputs": [
    {
     "name": "stdout",
     "output_type": "stream",
     "text": [
      "Number of duplicate rows based on selected columns: 64896\n",
      "    ResponseId                      MainBranch                 Age  \\\n",
      "1            2  I am a developer by profession     35-44 years old   \n",
      "2            3  I am a developer by profession     45-54 years old   \n",
      "14          15  I am a developer by profession     25-34 years old   \n",
      "15          16  I am a developer by profession     45-54 years old   \n",
      "16          17     I code primarily as a hobby  Under 18 years old   \n",
      "\n",
      "             Employment                            RemoteWork   Check  \\\n",
      "1   Employed, full-time                                Remote  Apples   \n",
      "2   Employed, full-time                                Remote  Apples   \n",
      "14  Employed, full-time  Hybrid (some remote, some in-person)  Apples   \n",
      "15  Employed, full-time  Hybrid (some remote, some in-person)  Apples   \n",
      "16   Student, full-time                                   NaN  Apples   \n",
      "\n",
      "                                     CodingActivities  \\\n",
      "1   Hobby;Contribute to open-source projects;Other...   \n",
      "2   Hobby;Contribute to open-source projects;Other...   \n",
      "14  Hobby;Professional development or self-paced l...   \n",
      "15                                              Hobby   \n",
      "16                                                NaN   \n",
      "\n",
      "                                              EdLevel  \\\n",
      "1        Bachelor’s degree (B.A., B.S., B.Eng., etc.)   \n",
      "2     Master’s degree (M.A., M.S., M.Eng., MBA, etc.)   \n",
      "14    Master’s degree (M.A., M.S., M.Eng., MBA, etc.)   \n",
      "15  Some college/university study without earning ...   \n",
      "16                          Primary/elementary school   \n",
      "\n",
      "                                            LearnCode  \\\n",
      "1   Books / Physical media;Colleague;On the job tr...   \n",
      "2   Books / Physical media;Colleague;On the job tr...   \n",
      "14  Books / Physical media;Other online resources ...   \n",
      "15  Books / Physical media;On the job training;Oth...   \n",
      "16  Books / Physical media;Other online resources ...   \n",
      "\n",
      "                                      LearnCodeOnline  ... JobSatPoints_6  \\\n",
      "1   Technical documentation;Blogs;Books;Written Tu...  ...            0.0   \n",
      "2   Technical documentation;Blogs;Books;Written Tu...  ...            NaN   \n",
      "14  Stack Overflow;Coding sessions (live or record...  ...            NaN   \n",
      "15  Technical documentation;Books;Written Tutorial...  ...            0.0   \n",
      "16  Technical documentation;Written Tutorials;Stac...  ...            NaN   \n",
      "\n",
      "   JobSatPoints_7 JobSatPoints_8 JobSatPoints_9 JobSatPoints_10  \\\n",
      "1             0.0            0.0            0.0             0.0   \n",
      "2             NaN            NaN            NaN             NaN   \n",
      "14            NaN            NaN            NaN             NaN   \n",
      "15            0.0            0.0            0.0             0.0   \n",
      "16            NaN            NaN            NaN             NaN   \n",
      "\n",
      "   JobSatPoints_11           SurveyLength                  SurveyEase  \\\n",
      "1              0.0                    NaN                         NaN   \n",
      "2              NaN  Appropriate in length                        Easy   \n",
      "14             NaN  Appropriate in length                        Easy   \n",
      "15             0.0  Appropriate in length  Neither easy nor difficult   \n",
      "16             NaN  Appropriate in length                        Easy   \n",
      "\n",
      "   ConvertedCompYearly JobSat  \n",
      "1                  NaN    NaN  \n",
      "2                  NaN    NaN  \n",
      "14                 NaN    NaN  \n",
      "15                 NaN    5.0  \n",
      "16                 NaN    NaN  \n",
      "\n",
      "[5 rows x 114 columns]\n",
      "Age:  100.00% of duplicate rows share identical values\n",
      "Check:  100.00% of duplicate rows share identical values\n",
      "EdLevel:  100.00% of duplicate rows share identical values\n",
      "YearsCode:  100.00% of duplicate rows share identical values\n",
      "YearsCodePro:  100.00% of duplicate rows share identical values\n",
      "DevType:  100.00% of duplicate rows share identical values\n",
      "OrgSize:  100.00% of duplicate rows share identical values\n",
      "PurchaseInfluence:  100.00% of duplicate rows share identical values\n",
      "BuildvsBuy:  100.00% of duplicate rows share identical values\n",
      "NEWSOSites:  100.00% of duplicate rows share identical values\n",
      "SOVisitFreq:  100.00% of duplicate rows share identical values\n",
      "SOAccount:  100.00% of duplicate rows share identical values\n",
      "SOPartFreq:  100.00% of duplicate rows share identical values\n",
      "SOComm:  100.00% of duplicate rows share identical values\n",
      "AISelect:  100.00% of duplicate rows share identical values\n",
      "AISent:  100.00% of duplicate rows share identical values\n",
      "AIAcc:  100.00% of duplicate rows share identical values\n",
      "AIComplex:  100.00% of duplicate rows share identical values\n",
      "AIThreat:  100.00% of duplicate rows share identical values\n",
      "TBranch:  100.00% of duplicate rows share identical values\n",
      "ICorPM:  100.00% of duplicate rows share identical values\n",
      "WorkExp:  100.00% of duplicate rows share identical values\n",
      "Knowledge_1:  100.00% of duplicate rows share identical values\n",
      "Knowledge_2:  100.00% of duplicate rows share identical values\n",
      "Knowledge_3:  100.00% of duplicate rows share identical values\n",
      "Knowledge_4:  100.00% of duplicate rows share identical values\n",
      "Knowledge_5:  100.00% of duplicate rows share identical values\n",
      "Knowledge_6:  100.00% of duplicate rows share identical values\n",
      "Knowledge_7:  100.00% of duplicate rows share identical values\n",
      "Knowledge_8:  100.00% of duplicate rows share identical values\n",
      "Knowledge_9:  100.00% of duplicate rows share identical values\n",
      "Frequency_1:  100.00% of duplicate rows share identical values\n",
      "Frequency_2:  100.00% of duplicate rows share identical values\n",
      "Frequency_3:  100.00% of duplicate rows share identical values\n",
      "TimeSearching:  100.00% of duplicate rows share identical values\n",
      "TimeAnswering:  100.00% of duplicate rows share identical values\n",
      "ProfessionalCloud:  100.00% of duplicate rows share identical values\n",
      "ProfessionalQuestion:  100.00% of duplicate rows share identical values\n",
      "Industry:  100.00% of duplicate rows share identical values\n",
      "SurveyLength:  100.00% of duplicate rows share identical values\n",
      "SurveyEase:  100.00% of duplicate rows share identical values\n",
      "JobSat:  100.00% of duplicate rows share identical values\n",
      "AIEthics:  100.00% of duplicate rows share identical values\n",
      "CodingActivities:  99.99% of duplicate rows share identical values\n",
      "SOHow:  99.98% of duplicate rows share identical values\n",
      "AIBen:  99.98% of duplicate rows share identical values\n",
      "TechDoc:  99.98% of duplicate rows share identical values\n",
      "JobSatPoints_9:  99.98% of duplicate rows share identical values\n",
      "Country:  99.98% of duplicate rows share identical values\n",
      "JobSatPoints_8:  99.98% of duplicate rows share identical values\n",
      "BuyNewTool:  99.97% of duplicate rows share identical values\n",
      "JobSatPoints_11:  99.97% of duplicate rows share identical values\n",
      "JobSatPoints_1:  99.97% of duplicate rows share identical values\n",
      "JobSatPoints_4:  99.97% of duplicate rows share identical values\n",
      "JobSatPoints_10:  99.97% of duplicate rows share identical values\n",
      "Currency:  99.97% of duplicate rows share identical values\n",
      "AIChallenges:  99.97% of duplicate rows share identical values\n",
      "JobSatPoints_6:  99.96% of duplicate rows share identical values\n",
      "JobSatPoints_7:  99.96% of duplicate rows share identical values\n",
      "JobSatPoints_5:  99.96% of duplicate rows share identical values\n",
      "TechEndorse:  99.95% of duplicate rows share identical values\n",
      "LearnCode:  99.95% of duplicate rows share identical values\n",
      "ProfessionalTech:  99.94% of duplicate rows share identical values\n",
      "Frustration:  99.78% of duplicate rows share identical values\n",
      "AINextLess integrated:  99.78% of duplicate rows share identical values\n",
      "AINextMuch less integrated:  99.73% of duplicate rows share identical values\n",
      "AINextNo change:  99.66% of duplicate rows share identical values\n",
      "AINextMuch more integrated:  99.61% of duplicate rows share identical values\n",
      "AINextMore integrated:  99.52% of duplicate rows share identical values\n",
      "AIToolCurrently Using:  99.31% of duplicate rows share identical values\n",
      "AIToolInterested in Using:  99.30% of duplicate rows share identical values\n",
      "AIToolNot interested in Using:  99.17% of duplicate rows share identical values\n",
      "EmbeddedAdmired:  99.09% of duplicate rows share identical values\n",
      "EmbeddedWantToWorkWith:  98.66% of duplicate rows share identical values\n",
      "AISearchDevAdmired:  98.64% of duplicate rows share identical values\n",
      "EmbeddedHaveWorkedWith:  98.56% of duplicate rows share identical values\n",
      "OpSysProfessional use:  98.24% of duplicate rows share identical values\n",
      "OfficeStackSyncAdmired:  97.95% of duplicate rows share identical values\n",
      "OpSysPersonal use:  97.87% of duplicate rows share identical values\n",
      "AISearchDevWantToWorkWith:  97.69% of duplicate rows share identical values\n",
      "OfficeStackAsyncAdmired:  97.58% of duplicate rows share identical values\n",
      "PlatformAdmired:  97.56% of duplicate rows share identical values\n",
      "AISearchDevHaveWorkedWith:  97.41% of duplicate rows share identical values\n",
      "OfficeStackSyncWantToWorkWith:  97.34% of duplicate rows share identical values\n",
      "CompTotal:  96.70% of duplicate rows share identical values\n",
      "OfficeStackAsyncWantToWorkWith:  96.30% of duplicate rows share identical values\n",
      "DatabaseAdmired:  95.99% of duplicate rows share identical values\n",
      "OfficeStackSyncHaveWorkedWith:  95.44% of duplicate rows share identical values\n",
      "PlatformWantToWorkWith:  94.96% of duplicate rows share identical values\n",
      "MiscTechAdmired:  94.46% of duplicate rows share identical values\n",
      "WebframeAdmired:  94.29% of duplicate rows share identical values\n",
      "PlatformHaveWorkedWith:  94.29% of duplicate rows share identical values\n",
      "OfficeStackAsyncHaveWorkedWith:  94.06% of duplicate rows share identical values\n",
      "ConvertedCompYearly:  93.93% of duplicate rows share identical values\n",
      "NEWCollabToolsAdmired:  91.92% of duplicate rows share identical values\n",
      "LearnCodeOnline:  91.26% of duplicate rows share identical values\n",
      "DatabaseWantToWorkWith:  90.44% of duplicate rows share identical values\n",
      "DatabaseHaveWorkedWith:  90.12% of duplicate rows share identical values\n",
      "NEWCollabToolsWantToWorkWith:  89.10% of duplicate rows share identical values\n",
      "MiscTechHaveWorkedWith:  88.97% of duplicate rows share identical values\n",
      "MiscTechWantToWorkWith:  87.36% of duplicate rows share identical values\n",
      "ToolsTechAdmired:  86.65% of duplicate rows share identical values\n",
      "LanguageAdmired:  86.18% of duplicate rows share identical values\n",
      "WebframeWantToWorkWith:  86.13% of duplicate rows share identical values\n",
      "WebframeHaveWorkedWith:  85.63% of duplicate rows share identical values\n",
      "NEWCollabToolsHaveWorkedWith:  83.34% of duplicate rows share identical values\n",
      "ToolsTechWantToWorkWith:  80.31% of duplicate rows share identical values\n",
      "ToolsTechHaveWorkedWith:  76.12% of duplicate rows share identical values\n",
      "LanguageWantToWorkWith:  72.05% of duplicate rows share identical values\n",
      "LanguageHaveWorkedWith:  70.60% of duplicate rows share identical values\n",
      "ResponseId:  0.06% of duplicate rows share identical values\n"
     ]
    }
   ],
   "source": [
    "## Write your code here\n",
    "\n",
    "duplicate_rows = df[df.duplicated(subset=['MainBranch', 'Employment', 'RemoteWork'])]\n",
    "duplicate_count = duplicate_rows.shape[0]\n",
    "print(f\"Number of duplicate rows based on selected columns: {duplicate_count}\")\n",
    "print(duplicate_rows.head())\n",
    "\n",
    "\n",
    "duplicate_subset = df[df.duplicated(subset=['MainBranch', 'Employment', 'RemoteWork'], keep=False)]\n",
    "\n",
    "subset_cols = ['MainBranch', 'Employment', 'RemoteWork']\n",
    "other_cols = [col for col in df.columns if col not in subset_cols]\n",
    "match_rates = {}\n",
    "for col in other_cols:\n",
    "    repeated = duplicate_subset[col].duplicated(keep=False).sum()\n",
    "    match_rate = repeated / duplicate_subset.shape[0]\n",
    "    match_rates[col] = match_rate\n",
    "\n",
    "sorted_match = sorted(match_rates.items(), key=lambda x: x[1], reverse=True)\n",
    "\n",
    "for col, rate in sorted_match:\n",
    "    print(f\"{col}: {rate: .2%} of duplicate rows share identical values\")\n"
   ]
  },
  {
   "cell_type": "markdown",
   "metadata": {},
   "source": [
    "### Task 3: Visualize Duplicates Distribution\n",
    "1. Create visualizations to show the distribution of duplicates across different categories.\n",
    "2. Use bar charts or pie charts to represent the distribution of duplicates by Country and Employment.\n"
   ]
  },
  {
   "cell_type": "code",
   "execution_count": 46,
   "metadata": {},
   "outputs": [
    {
     "data": {
      "image/png": "[encoded data removed]",
      "text/plain": [
       "<Figure size 800x600 with 1 Axes>"
      ]
     },
     "metadata": {},
     "output_type": "display_data"
    },
    {
     "data": {
      "image/png": "[encoded data removed]",
      "text/plain": [
       "<Figure size 1000x1000 with 1 Axes>"
      ]
     },
     "metadata": {},
     "output_type": "display_data"
    }
   ],
   "source": [
    "## Write your code here\n",
    "\n",
    "import matplotlib.pyplot as pyplotlt\n",
    "country_counts = duplicate_subset['Country'].value_counts().head(10)\n",
    "\n",
    "plt.figure(figsize=(8, 6))\n",
    "country_counts.plot(kind='bar', color='blue', edgecolor='black')\n",
    "plt.title('Distribution of duplicates by Country (top 10')\n",
    "plt.xlabel('Country')\n",
    "plt.ylabel('Number of Duplicate Rows')\n",
    "plt.xticks(rotation=45)\n",
    "plt.tight_layout()\n",
    "plt.show()\n",
    "\n",
    "employment_counts = duplicate_subset['Employment'].value_counts()\n",
    "\n",
    "top_n = 5\n",
    "top_employment = employment_counts.head(top_n)\n",
    "\n",
    "other_sum = employment_counts.iloc[top_n:].sum()\n",
    "major_employment['Other'] = other_sum\n",
    "\n",
    "plt.figure(figsize=(10,10))\n",
    "top_employment.plot(kind='pie', autopct='%1.1f%%', startangle = 140, colors=plt.cm.Set2.colors)\n",
    "plt.title('Top Employment Types of Duplicate Rows')\n",
    "plt.ylabel(' ')\n",
    "plt.tight_layout()\n",
    "plt.show()"
   ]
  },
  {
   "cell_type": "markdown",
   "metadata": {},
   "source": [
    "### Task 4: Strategic Removal of Duplicates\n",
    "1. Decide which columns are critical for defining uniqueness in the dataset.\n",
    "2. Remove duplicates based on a subset of columns if complete row duplication is not a good criterion.\n"
   ]
  },
  {
   "cell_type": "code",
   "execution_count": 49,
   "metadata": {},
   "outputs": [
    {
     "name": "stdout",
     "output_type": "stream",
     "text": [
      "2665\n",
      "561\n"
     ]
    },
    {
     "data": {
      "text/html": [
       "<div>\n",
       "<style scoped>\n",
       "    .dataframe tbody tr th:only-of-type {\n",
       "        vertical-align: middle;\n",
       "    }\n",
       "\n",
       "    .dataframe tbody tr th {\n",
       "        vertical-align: top;\n",
       "    }\n",
       "\n",
       "    .dataframe thead th {\n",
       "        text-align: right;\n",
       "    }\n",
       "</style>\n",
       "<table border=\"1\" class=\"dataframe\">\n",
       "  <thead>\n",
       "    <tr style=\"text-align: right;\">\n",
       "      <th></th>\n",
       "      <th>ResponseId</th>\n",
       "      <th>MainBranch</th>\n",
       "      <th>Age</th>\n",
       "      <th>Employment</th>\n",
       "      <th>RemoteWork</th>\n",
       "      <th>Check</th>\n",
       "      <th>CodingActivities</th>\n",
       "      <th>EdLevel</th>\n",
       "      <th>LearnCode</th>\n",
       "      <th>LearnCodeOnline</th>\n",
       "      <th>...</th>\n",
       "      <th>JobSatPoints_6</th>\n",
       "      <th>JobSatPoints_7</th>\n",
       "      <th>JobSatPoints_8</th>\n",
       "      <th>JobSatPoints_9</th>\n",
       "      <th>JobSatPoints_10</th>\n",
       "      <th>JobSatPoints_11</th>\n",
       "      <th>SurveyLength</th>\n",
       "      <th>SurveyEase</th>\n",
       "      <th>ConvertedCompYearly</th>\n",
       "      <th>JobSat</th>\n",
       "    </tr>\n",
       "  </thead>\n",
       "  <tbody>\n",
       "    <tr>\n",
       "      <th>0</th>\n",
       "      <td>1</td>\n",
       "      <td>I am a developer by profession</td>\n",
       "      <td>Under 18 years old</td>\n",
       "      <td>Employed, full-time</td>\n",
       "      <td>Remote</td>\n",
       "      <td>Apples</td>\n",
       "      <td>Hobby</td>\n",
       "      <td>Primary/elementary school</td>\n",
       "      <td>Books / Physical media</td>\n",
       "      <td>NaN</td>\n",
       "      <td>...</td>\n",
       "      <td>NaN</td>\n",
       "      <td>NaN</td>\n",
       "      <td>NaN</td>\n",
       "      <td>NaN</td>\n",
       "      <td>NaN</td>\n",
       "      <td>NaN</td>\n",
       "      <td>NaN</td>\n",
       "      <td>NaN</td>\n",
       "      <td>NaN</td>\n",
       "      <td>NaN</td>\n",
       "    </tr>\n",
       "    <tr>\n",
       "      <th>3</th>\n",
       "      <td>4</td>\n",
       "      <td>I am learning to code</td>\n",
       "      <td>18-24 years old</td>\n",
       "      <td>Student, full-time</td>\n",
       "      <td>NaN</td>\n",
       "      <td>Apples</td>\n",
       "      <td>NaN</td>\n",
       "      <td>Some college/university study without earning ...</td>\n",
       "      <td>Other online resources (e.g., videos, blogs, f...</td>\n",
       "      <td>Stack Overflow;How-to videos;Interactive tutorial</td>\n",
       "      <td>...</td>\n",
       "      <td>NaN</td>\n",
       "      <td>NaN</td>\n",
       "      <td>NaN</td>\n",
       "      <td>NaN</td>\n",
       "      <td>NaN</td>\n",
       "      <td>NaN</td>\n",
       "      <td>Too long</td>\n",
       "      <td>Easy</td>\n",
       "      <td>NaN</td>\n",
       "      <td>NaN</td>\n",
       "    </tr>\n",
       "    <tr>\n",
       "      <th>4</th>\n",
       "      <td>5</td>\n",
       "      <td>I am a developer by profession</td>\n",
       "      <td>18-24 years old</td>\n",
       "      <td>Student, full-time</td>\n",
       "      <td>NaN</td>\n",
       "      <td>Apples</td>\n",
       "      <td>NaN</td>\n",
       "      <td>Secondary school (e.g. American high school, G...</td>\n",
       "      <td>Other online resources (e.g., videos, blogs, f...</td>\n",
       "      <td>Technical documentation;Blogs;Written Tutorial...</td>\n",
       "      <td>...</td>\n",
       "      <td>NaN</td>\n",
       "      <td>NaN</td>\n",
       "      <td>NaN</td>\n",
       "      <td>NaN</td>\n",
       "      <td>NaN</td>\n",
       "      <td>NaN</td>\n",
       "      <td>Too short</td>\n",
       "      <td>Easy</td>\n",
       "      <td>NaN</td>\n",
       "      <td>NaN</td>\n",
       "    </tr>\n",
       "    <tr>\n",
       "      <th>5</th>\n",
       "      <td>6</td>\n",
       "      <td>I code primarily as a hobby</td>\n",
       "      <td>Under 18 years old</td>\n",
       "      <td>Student, full-time</td>\n",
       "      <td>NaN</td>\n",
       "      <td>Apples</td>\n",
       "      <td>NaN</td>\n",
       "      <td>Primary/elementary school</td>\n",
       "      <td>School (i.e., University, College, etc);Online...</td>\n",
       "      <td>NaN</td>\n",
       "      <td>...</td>\n",
       "      <td>NaN</td>\n",
       "      <td>NaN</td>\n",
       "      <td>NaN</td>\n",
       "      <td>NaN</td>\n",
       "      <td>NaN</td>\n",
       "      <td>NaN</td>\n",
       "      <td>Appropriate in length</td>\n",
       "      <td>Easy</td>\n",
       "      <td>NaN</td>\n",
       "      <td>NaN</td>\n",
       "    </tr>\n",
       "    <tr>\n",
       "      <th>6</th>\n",
       "      <td>7</td>\n",
       "      <td>I am not primarily a developer, but I write co...</td>\n",
       "      <td>35-44 years old</td>\n",
       "      <td>Employed, full-time</td>\n",
       "      <td>Remote</td>\n",
       "      <td>Apples</td>\n",
       "      <td>I don’t code outside of work</td>\n",
       "      <td>Professional degree (JD, MD, Ph.D, Ed.D, etc.)</td>\n",
       "      <td>Other online resources (e.g., videos, blogs, f...</td>\n",
       "      <td>Technical documentation;Stack Overflow;Written...</td>\n",
       "      <td>...</td>\n",
       "      <td>NaN</td>\n",
       "      <td>NaN</td>\n",
       "      <td>NaN</td>\n",
       "      <td>NaN</td>\n",
       "      <td>NaN</td>\n",
       "      <td>NaN</td>\n",
       "      <td>Too long</td>\n",
       "      <td>Neither easy nor difficult</td>\n",
       "      <td>NaN</td>\n",
       "      <td>NaN</td>\n",
       "    </tr>\n",
       "  </tbody>\n",
       "</table>\n",
       "<p>5 rows × 114 columns</p>\n",
       "</div>"
      ],
      "text/plain": [
       "   ResponseId                                         MainBranch  \\\n",
       "0           1                     I am a developer by profession   \n",
       "3           4                              I am learning to code   \n",
       "4           5                     I am a developer by profession   \n",
       "5           6                        I code primarily as a hobby   \n",
       "6           7  I am not primarily a developer, but I write co...   \n",
       "\n",
       "                  Age           Employment RemoteWork   Check  \\\n",
       "0  Under 18 years old  Employed, full-time     Remote  Apples   \n",
       "3     18-24 years old   Student, full-time        NaN  Apples   \n",
       "4     18-24 years old   Student, full-time        NaN  Apples   \n",
       "5  Under 18 years old   Student, full-time        NaN  Apples   \n",
       "6     35-44 years old  Employed, full-time     Remote  Apples   \n",
       "\n",
       "               CodingActivities  \\\n",
       "0                         Hobby   \n",
       "3                           NaN   \n",
       "4                           NaN   \n",
       "5                           NaN   \n",
       "6  I don’t code outside of work   \n",
       "\n",
       "                                             EdLevel  \\\n",
       "0                          Primary/elementary school   \n",
       "3  Some college/university study without earning ...   \n",
       "4  Secondary school (e.g. American high school, G...   \n",
       "5                          Primary/elementary school   \n",
       "6     Professional degree (JD, MD, Ph.D, Ed.D, etc.)   \n",
       "\n",
       "                                           LearnCode  \\\n",
       "0                             Books / Physical media   \n",
       "3  Other online resources (e.g., videos, blogs, f...   \n",
       "4  Other online resources (e.g., videos, blogs, f...   \n",
       "5  School (i.e., University, College, etc);Online...   \n",
       "6  Other online resources (e.g., videos, blogs, f...   \n",
       "\n",
       "                                     LearnCodeOnline  ... JobSatPoints_6  \\\n",
       "0                                                NaN  ...            NaN   \n",
       "3  Stack Overflow;How-to videos;Interactive tutorial  ...            NaN   \n",
       "4  Technical documentation;Blogs;Written Tutorial...  ...            NaN   \n",
       "5                                                NaN  ...            NaN   \n",
       "6  Technical documentation;Stack Overflow;Written...  ...            NaN   \n",
       "\n",
       "  JobSatPoints_7 JobSatPoints_8 JobSatPoints_9 JobSatPoints_10  \\\n",
       "0            NaN            NaN            NaN             NaN   \n",
       "3            NaN            NaN            NaN             NaN   \n",
       "4            NaN            NaN            NaN             NaN   \n",
       "5            NaN            NaN            NaN             NaN   \n",
       "6            NaN            NaN            NaN             NaN   \n",
       "\n",
       "  JobSatPoints_11           SurveyLength                  SurveyEase  \\\n",
       "0             NaN                    NaN                         NaN   \n",
       "3             NaN               Too long                        Easy   \n",
       "4             NaN              Too short                        Easy   \n",
       "5             NaN  Appropriate in length                        Easy   \n",
       "6             NaN               Too long  Neither easy nor difficult   \n",
       "\n",
       "  ConvertedCompYearly JobSat  \n",
       "0                 NaN    NaN  \n",
       "3                 NaN    NaN  \n",
       "4                 NaN    NaN  \n",
       "5                 NaN    NaN  \n",
       "6                 NaN    NaN  \n",
       "\n",
       "[5 rows x 114 columns]"
      ]
     },
     "execution_count": 49,
     "metadata": {},
     "output_type": "execute_result"
    }
   ],
   "source": [
    "## Write your code here\n",
    "print(df[['Country','Employment']].drop_duplicates().shape[0])\n",
    "print(df[['MainBranch', 'Employment', 'RemoteWork']].drop_duplicates().shape[0])\n",
    "\n",
    "unique_df = df.drop_duplicates(subset=['MainBranch', 'Employment', 'RemoteWork'], keep='first')\n",
    "unique_df.head()"
   ]
  },
  {
   "cell_type": "markdown",
   "metadata": {},
   "source": [
    "## Verify and Document Duplicate Removal Process\n"
   ]
  },
  {
   "cell_type": "markdown",
   "metadata": {},
   "source": [
    "### Task 5: Documentation\n",
    "1. Document the process of identifying and removing duplicates.\n"
   ]
  },
  {
   "cell_type": "raw",
   "metadata": {},
   "source": [
    "# Write your explanation here\n",
    "# I started by checking for duplicate rows in the dataset. I narrowed this down to key columns MainBranch, Employment and RemoteWork. These fields were more relevant in defining what made a row distinct. This allowed me to spot patterns where multiple entries # looked identical. I reviewed other columns to see which ones tended to repeat the same values which helped clarify which fields were contributing most to the duplication. Once I landed on the most meaningful combination of columns I removed any extra rows # that matched, just keeping one from each group. I finished by visualizing where duplicates were most common. I used a bar chart to show how they were spread across countries and pier chart for employment types. \n"
   ]
  },
  {
   "cell_type": "markdown",
   "metadata": {},
   "source": [
    "2. Explain the reasoning behind selecting specific columns for identifying and removing duplicates.\n"
   ]
  },
  {
   "cell_type": "raw",
   "metadata": {},
   "source": [
    "# Write your explanation here\n",
    "# JI sel"
   ]
  },
  {
   "cell_type": "markdown",
   "metadata": {},
   "source": [
    "### Summary and Next Steps\n",
    "**In this lab, you focused on identifying and analyzing duplicate rows within the dataset.**\n",
    "\n",
    "- You employed various techniques to explore the nature of duplicates and applied strategic methods for their removal.\n",
    "- For additional analysis, consider investigating the impact of duplicates on specific analyses and how their removal affects the results.\n",
    "- This version of the lab is more focused on duplicate analysis and handling, providing a structured approach to deal with duplicates in a dataset effectively.\n"
   ]
  },
  {
   "cell_type": "markdown",
   "metadata": {},
   "source": [
    "<!--\n",
    "## Change Log\n",
    "|Date (YYYY-MM-DD)|Version|Changed By|Change Description|\n",
    "|-|-|-|-|\n",
    "|2024-11- 05|1.3|Madhusudhan Moole|Updated lab|\n",
    "|2024-10-28|1.2|Madhusudhan Moole|Updated lab|\n",
    "|2024-09-24|1.1|Madhusudhan Moole|Updated lab|\n",
    "|2024-09-23|1.0|Raghul Ramesh|Created lab|\n",
    "--!>\n"
   ]
  },
  {
   "cell_type": "markdown",
   "metadata": {},
   "source": [
    "Copyright © IBM Corporation. All rights reserved.\n"
   ]
  }
 ],
 "metadata": {
  "kernelspec": {
   "display_name": "Python 3 (ipykernel)",
   "language": "python",
   "name": "python3"
  },
  "language_info": {
   "codemirror_mode": {
    "name": "ipython",
    "version": 3
   },
   "file_extension": ".py",
   "mimetype": "text/x-python",
   "name": "python",
   "nbconvert_exporter": "python",
   "pygments_lexer": "ipython3",
   "version": "3.12.8"
  },
  "prev_pub_hash": "fa3493caccf457f2b33a3a72ca6bf5789c2ce4157ea6e40534b09cc8380e8ae5"
 },
 "nbformat": 4,
 "nbformat_minor": 4
}
